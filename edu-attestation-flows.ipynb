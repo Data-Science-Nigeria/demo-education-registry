{
 "cells": [
  {
   "cell_type": "code",
   "execution_count": 14,
   "id": "dc3d2384",
   "metadata": {
    "pycharm": {
     "name": "#%%\n"
    }
   },
   "outputs": [],
   "source": [
    "import requests\n",
    "import random\n",
    "import json"
   ]
  },
  {
   "cell_type": "code",
   "execution_count": 15,
   "id": "f3912238",
   "metadata": {
    "pycharm": {
     "name": "#%%\n"
    }
   },
   "outputs": [],
   "source": [
    "baseUrl = \"https://demo-education-registry.xiv.in/registry/api/v1/\"\n",
    "keycloakUrl = \"https://demo-education-registry.xiv.in\""
   ]
  },
  {
   "cell_type": "markdown",
   "id": "4194d872",
   "metadata": {
    "pycharm": {
     "name": "#%% md\n"
    }
   },
   "source": [
    "# Institute invite"
   ]
  },
  {
   "cell_type": "code",
   "execution_count": null,
   "outputs": [],
   "source": [
    "instituteUserId = \"admin\"+str(random.randint(0,999999))+\"@mailinator.com\"\n",
    "instituteRequestBody = {\n",
    "    \"instituteName\": \"te\",\n",
    "    \"email\": instituteUserId,\n",
    "    \"contactNumber\": \"!23\"\n",
    "}"
   ],
   "metadata": {
    "collapsed": false,
    "pycharm": {
     "name": "#%%\n"
    }
   }
  },
  {
   "cell_type": "code",
   "execution_count": null,
   "outputs": [],
   "source": [
    "headers = {\n",
    "  'Content-Type': 'application/json'\n",
    "}\n",
    "\n",
    "response = requests.request(\"POST\", baseUrl + \"Institute/invite\", headers=headers, json=instituteRequestBody)\n",
    "\n",
    "print(response.text)\n",
    "assert response.status_code == 200"
   ],
   "metadata": {
    "collapsed": false,
    "pycharm": {
     "name": "#%%\n"
    }
   }
  },
  {
   "cell_type": "markdown",
   "source": [
    "# get institute token"
   ],
   "metadata": {
    "collapsed": false,
    "pycharm": {
     "name": "#%% md\n"
    }
   }
  },
  {
   "cell_type": "code",
   "execution_count": null,
   "outputs": [],
   "source": [
    "def getToken(userId):\n",
    "    headers = {\n",
    "        'content-type': 'application/x-www-form-urlencoded',\n",
    "    }\n",
    "\n",
    "    data = {\n",
    "      'client_id': 'registry-frontend',\n",
    "      'username': userId,\n",
    "      'password': 'abcd@123',\n",
    "      'grant_type': 'password'\n",
    "    }\n",
    "\n",
    "    response = requests.post('%s/auth/realms/sunbird-rc/protocol/openid-connect/token'%(keycloakUrl), headers=headers, data=data)\n",
    "    print(response.json())\n",
    "#     print(response.status_code)\n",
    "    token = response.json()[\"access_token\"]\n",
    "    return token\n"
   ],
   "metadata": {
    "collapsed": false,
    "pycharm": {
     "name": "#%%\n"
    }
   }
  },
  {
   "cell_type": "code",
   "execution_count": null,
   "outputs": [],
   "source": [
    "token = getToken(instituteUserId)\n",
    "print(token)"
   ],
   "metadata": {
    "collapsed": false,
    "pycharm": {
     "name": "#%%\n"
    }
   }
  },
  {
   "cell_type": "markdown",
   "source": [
    "# get institute details"
   ],
   "metadata": {
    "collapsed": false,
    "pycharm": {
     "name": "#%% md\n"
    }
   }
  },
  {
   "cell_type": "code",
   "execution_count": null,
   "outputs": [],
   "source": [
    "\n",
    "headers = {\n",
    "  'Content-Type': 'application/json',\n",
    "    'Authorization': 'bearer %s'%token,\n",
    "}\n",
    "\n",
    "response = requests.request(\"GET\", baseUrl + \"Institute\", headers=headers)\n",
    "\n",
    "print(response.text)\n",
    "intituteOsid = response.json()[0][\"osid\"]\n",
    "print(intituteOsid)\n",
    "assert response.status_code == 200\n"
   ],
   "metadata": {
    "collapsed": false,
    "pycharm": {
     "name": "#%%\n"
    }
   }
  },
  {
   "cell_type": "markdown",
   "source": [
    "# Affiliate Institute"
   ],
   "metadata": {
    "collapsed": false,
    "pycharm": {
     "name": "#%% md\n"
    }
   }
  },
  {
   "cell_type": "code",
   "execution_count": null,
   "outputs": [],
   "source": [
    "# add affiliation details\n",
    "headers = {\n",
    "    'content-type': 'application/json',\n",
    "    'authorization': 'bearer %s'%token,\n",
    "}\n",
    "\n",
    "data = \"\"\"{\n",
    "\"affiliation\": [\n",
    "  {\n",
    "    \"medium\": \"English\",\n",
    "    \"board\": \"cbse\",\n",
    "    \"affiliationNumber\":  \"123\",\n",
    "    \"grantYear\": \"2000\",\n",
    "    \"expiryYear\":  \"3001\",\n",
    "    \"classes\": [\"Class XII\"]\n",
    "  }\n",
    "]\n",
    "}\"\"\"\n",
    "# print(data)\n",
    "response = requests.put('%sInstitute/%s'%(baseUrl, intituteOsid), headers=headers, data=data)\n",
    "print(response)\n",
    "print(response.json())\n",
    "assert response.status_code == 200"
   ],
   "metadata": {
    "collapsed": false,
    "pycharm": {
     "name": "#%%\n"
    }
   }
  },
  {
   "cell_type": "code",
   "execution_count": null,
   "outputs": [],
   "source": [
    "# get institute details\n",
    "headers = {\n",
    "  'Content-Type': 'application/json',\n",
    "    'Authorization': 'bearer %s'%token,\n",
    "}\n",
    "\n",
    "response = requests.request(\"GET\", baseUrl + \"Institute\", headers=headers)\n",
    "\n",
    "print(response.text)\n",
    "intituteAffiliateOsid = response.json()[0][\"affiliation\"][0][\"osid\"]\n",
    "print(intituteAffiliateOsid)\n",
    "assert response.status_code == 200"
   ],
   "metadata": {
    "collapsed": false,
    "pycharm": {
     "name": "#%%\n"
    }
   }
  },
  {
   "cell_type": "markdown",
   "source": [
    "## For multi level attestation flow check this"
   ],
   "metadata": {
    "collapsed": false,
    "pycharm": {
     "name": "#%% md\n"
    }
   }
  },
  {
   "cell_type": "code",
   "execution_count": null,
   "outputs": [],
   "source": [
    "# raise attestation request\n",
    "headers = {\n",
    "    'content-type': 'application/json',\n",
    "    'authorization': 'bearer %s'%token,\n",
    "}\n",
    "\n",
    "params = (\n",
    "    ('send', 'true'),\n",
    ")\n",
    "\n",
    "data = {\n",
    "    \"entityName\":\"Institute\",\n",
    "    \"entityId\":\"%s\"%intituteOsid,\n",
    "    \"name\":\"instituteAffiliation\",\n",
    "    \"propertiesOSID\": {\n",
    "        \"affiliation\": [intituteAffiliateOsid]\n",
    "    }\n",
    "}\n",
    "response = requests.post(baseUrl+'send', headers=headers, params=params, json=data)\n",
    "print(response.status_code)\n",
    "response.json()\n",
    "assert response.status_code == 200\n",
    "print(response.json())\n",
    "assert response.json()[\"params\"][\"status\"] == \"SUCCESSFUL\""
   ],
   "metadata": {
    "collapsed": false,
    "pycharm": {
     "name": "#%%\n"
    }
   }
  },
  {
   "cell_type": "markdown",
   "source": [
    "# cbse board attest claims"
   ],
   "metadata": {
    "collapsed": false,
    "pycharm": {
     "name": "#%% md\n"
    }
   }
  },
  {
   "cell_type": "code",
   "execution_count": null,
   "outputs": [],
   "source": [
    "# get claims for cbse board\n",
    "# create user manually and attach board-cbse role\n",
    "boardUserId = \"cbse-admin\"\n",
    "boardToken = getToken(boardUserId)\n",
    "# print(boardToken)\n",
    "headers = {\n",
    "  'Content-Type': 'application/json',\n",
    "    'Authorization': 'bearer %s'%boardToken,\n",
    "}\n",
    "\n",
    "response = requests.request(\"GET\", baseUrl + \"board-cbse/claims\", headers=headers)\n",
    "assert response.status_code == 200\n",
    "print(response.json())"
   ],
   "metadata": {
    "collapsed": false,
    "pycharm": {
     "name": "#%%\n"
    }
   }
  },
  {
   "cell_type": "code",
   "execution_count": null,
   "outputs": [],
   "source": [
    "# Attesting the claim as GRANT\n",
    "data = {\n",
    "    \"action\":\"GRANT_CLAIM\",\n",
    "}\n",
    "# print(response.json())\n",
    "attestingClaimId = None\n",
    "for claim in response.json():\n",
    "#     print(claim)\n",
    "    print(claim[\"status\"])\n",
    "    if claim[\"status\"] == \"OPEN\":\n",
    "        attestingClaimId = claim[\"id\"]\n",
    "        print(claim[\"id\"])\n",
    "        attestResp = requests.request(\"POST\", \"%sboard-cbse/claims/%s/attest\" %(baseUrl, claim[\"id\"]), headers=headers, json=data)\n",
    "        assert response.status_code == 200\n",
    "        print(attestResp)\n",
    "        print(attestResp.json())\n",
    "        break\n",
    "assert attestingClaimId != None\n",
    "\n",
    "# intituteAffiliateOsid = response.json()[0][\"affiliation\"][0][\"osid\"]\n",
    "# print(intituteAffiliateOsid)"
   ],
   "metadata": {
    "collapsed": false,
    "pycharm": {
     "name": "#%%\n"
    }
   }
  },
  {
   "cell_type": "code",
   "execution_count": null,
   "outputs": [],
   "source": [
    "import time\n",
    "time.sleep(5)\n",
    "# verify attestation status\n",
    "headers = {\n",
    "  'Content-Type': 'application/json',\n",
    "    'Authorization': 'bearer %s'%token,\n",
    "}\n",
    "\n",
    "response = requests.request(\"GET\", baseUrl + \"Institute\", headers=headers)\n",
    "\n",
    "print(response.text)\n",
    "if \"instituteAffiliation\" in response.json()[0]:\n",
    "    for affiliation in response.json()[0][\"instituteAffiliation\"]:\n",
    "            if affiliation[\"_osClaimId\"] == attestingClaimId:\n",
    "                assert affiliation[\"_osState\"] == \"PUBLISHED\""
   ],
   "metadata": {
    "collapsed": false,
    "pycharm": {
     "name": "#%%\n"
    }
   }
  },
  {
   "cell_type": "code",
   "execution_count": null,
   "outputs": [],
   "source": [
    "# get institute details\n",
    "headers = {\n",
    "  'Content-Type': 'application/json',\n",
    "    'Authorization': 'bearer %s'%token,\n",
    "}\n",
    "\n",
    "response = requests.request(\"GET\", baseUrl + \"Institute\", headers=headers)\n",
    "\n",
    "print(response.text)\n",
    "for affiliation in response.json()[0][\"instituteAffiliation\"]:\n",
    "        if affiliation[\"_osClaimId\"] == attestingClaimId:\n",
    "            assert affiliation[\"_osState\"] == \"PUBLISHED\""
   ],
   "metadata": {
    "collapsed": false,
    "pycharm": {
     "name": "#%%\n"
    }
   }
  },
  {
   "cell_type": "markdown",
   "source": [
    "# Teacher attestations\n"
   ],
   "metadata": {
    "collapsed": false,
    "pycharm": {
     "name": "#%% md\n"
    }
   }
  },
  {
   "cell_type": "code",
   "execution_count": null,
   "outputs": [],
   "source": [
    "# create new institutions\n",
    "institute1 = \"ABC\"+str(random.randint(0,999999))+\"@mailinator.com\"\n",
    "institute2 = \"XYZ\"+str(random.randint(0,999999))+\"@mailinator.com\"\n",
    "instituteRequestBody = {\n",
    "    \"instituteName\": \"ABC\",\n",
    "    \"email\": institute1,\n",
    "    \"contactNumber\": \"ABC1\"\n",
    "}\n",
    "headers = {\n",
    "  'Content-Type': 'application/json'\n",
    "}\n",
    "\n",
    "response = requests.request(\"POST\", baseUrl + \"Institute/invite\", headers=headers, json=instituteRequestBody)\n",
    "\n",
    "print(response.text)\n",
    "assert response.status_code == 200\n",
    "institute1Osid = response.json()[\"result\"][\"Institute\"][\"osid\"]\n",
    "instituteRequestBody = {\n",
    "    \"instituteName\": \"XYZ\",\n",
    "    \"email\": institute2,\n",
    "    \"contactNumber\": \"XYZ1\"\n",
    "}\n",
    "headers = {\n",
    "  'Content-Type': 'application/json'\n",
    "}\n",
    "\n",
    "response = requests.request(\"POST\", baseUrl + \"Institute/invite\", headers=headers, json=instituteRequestBody)\n",
    "\n",
    "print(response.text)\n",
    "assert response.status_code == 200\n",
    "institute2Osid = response.json()[\"result\"][\"Institute\"][\"osid\"]"
   ],
   "metadata": {
    "collapsed": false,
    "pycharm": {
     "name": "#%%\n"
    }
   }
  },
  {
   "cell_type": "code",
   "execution_count": null,
   "outputs": [],
   "source": [
    "# create teacher\n",
    "teacherUserId = \"t7\"+str(random.randint(0,999999))\n",
    "teacherRequestBody = {\n",
    "  \"identityDetails\": {\n",
    "    \"fullName\": \"teacher1\",\n",
    "    \"gender\": \"Male\",\n",
    "    \"dob\": \"1995-10-28\",\n",
    "    \"identityHolder\": {\n",
    "      \"AADHAAR\": \"123412323\"\n",
    "    }\n",
    "  },\n",
    "  \"contactDetails\": {\n",
    "    \"email\": \"%s@g.com\"%teacherUserId,\n",
    "    \"mobile\": teacherUserId\n",
    "  },\n",
    "  \"academicQualifications\": [\n",
    "    {\n",
    "      \"instituteOSID\": institute1Osid,\n",
    "      \"instituteName\": \"ABC\"\n",
    "    }\n",
    "  ],\n",
    "  \"experience\": [\n",
    "    {\n",
    "      \"instituteOSID\": institute2Osid,\n",
    "      \"instituteName\": \"XYZ\"\n",
    "    }\n",
    "  ]\n",
    "}\n",
    "headers = {\n",
    "  'Content-Type': 'application/json'\n",
    "}\n",
    "\n",
    "response = requests.request(\"POST\", baseUrl + \"Teacher/invite\", headers=headers, json=teacherRequestBody)\n",
    "\n",
    "print(response.text)\n",
    "assert response.status_code == 200\n",
    "teacherOsid = response.json()[\"result\"][\"Teacher\"][\"osid\"]"
   ],
   "metadata": {
    "collapsed": false,
    "pycharm": {
     "name": "#%%\n"
    }
   }
  },
  {
   "cell_type": "code",
   "execution_count": null,
   "outputs": [],
   "source": [
    "teacherToken = getToken(teacherUserId)\n",
    "print(teacherToken)"
   ],
   "metadata": {
    "collapsed": false,
    "pycharm": {
     "name": "#%%\n"
    }
   }
  },
  {
   "cell_type": "code",
   "execution_count": null,
   "outputs": [],
   "source": [
    "# get teacher details\n",
    "headers = {\n",
    "  'Content-Type': 'application/json',\n",
    "    'Authorization': 'bearer %s'%teacherToken,\n",
    "}\n",
    "\n",
    "response = requests.request(\"GET\", baseUrl + \"Teacher\", headers=headers)\n",
    "\n",
    "print(response.text)\n",
    "assert response.status_code == 200\n",
    "teacherEntity = response.json()[0]\n",
    "print(teacherEntity[\"experience\"][0][\"osid\"])\n",
    "experienceOsid = teacherEntity[\"experience\"][0][\"osid\"]\n",
    "print(teacherEntity[\"academicQualifications\"][0][\"osid\"])\n",
    "qualificationOsid = teacherEntity[\"academicQualifications\"][0][\"osid\"]"
   ],
   "metadata": {
    "collapsed": false,
    "pycharm": {
     "name": "#%%\n"
    }
   }
  },
  {
   "cell_type": "markdown",
   "source": [
    "# raise teacher's education attestation"
   ],
   "metadata": {
    "collapsed": false,
    "pycharm": {
     "name": "#%% md\n"
    }
   }
  },
  {
   "cell_type": "code",
   "execution_count": null,
   "outputs": [],
   "source": [],
   "metadata": {
    "collapsed": false,
    "pycharm": {
     "name": "#%%\n"
    }
   }
  },
  {
   "cell_type": "code",
   "execution_count": null,
   "outputs": [],
   "source": [
    "# raise attestation request\n",
    "headers = {\n",
    "    'content-type': 'application/json',\n",
    "    'authorization': 'bearer %s'%teacherToken,\n",
    "}\n",
    "\n",
    "data = {\n",
    "    \"entityName\":\"Teacher\",\n",
    "    \"entityId\":\"%s\"%teacherOsid,\n",
    "    \"name\":\"teacherExperience\",\n",
    "    \"propertiesOSID\": {\n",
    "        \"experience\": [experienceOsid]\n",
    "    }\n",
    "}\n",
    "response = requests.post(baseUrl+'send', headers=headers, json=data)\n",
    "print(response.status_code)\n",
    "response.json()\n",
    "assert response.status_code == 200\n",
    "print(response.json())\n",
    "assert response.json()[\"params\"][\"status\"] == \"SUCCESSFUL\""
   ],
   "metadata": {
    "collapsed": false,
    "pycharm": {
     "name": "#%%\n"
    }
   }
  },
  {
   "cell_type": "code",
   "execution_count": null,
   "outputs": [],
   "source": [
    "# get institute token\n",
    "institute1Token = getToken(institute1)\n",
    "print(institute1Token)\n",
    "institute2Token = getToken(institute2)\n",
    "print(institute2Token)"
   ],
   "metadata": {
    "collapsed": false,
    "pycharm": {
     "name": "#%%\n"
    }
   }
  },
  {
   "cell_type": "code",
   "execution_count": null,
   "outputs": [],
   "source": [
    "# get institute claims and grant the claim\n",
    "headers = {\n",
    "  'Content-Type': 'application/json',\n",
    "    'Authorization': 'bearer %s'%institute2Token,\n",
    "}\n",
    "\n",
    "response = requests.request(\"GET\", baseUrl + \"Institute/claims\", headers=headers)\n",
    "assert response.status_code == 200\n",
    "print(response)\n",
    "\n",
    "# Attesting the claim as GRANT\n",
    "data = {\n",
    "    \"action\":\"GRANT_CLAIM\",\n",
    "}\n",
    "print(response.json())\n",
    "attestingClaimId = None\n",
    "for claim in response.json():\n",
    "#     print(claim)\n",
    "    print(claim[\"status\"])\n",
    "    if claim[\"status\"] == \"OPEN\":\n",
    "        attestingClaimId = claim[\"id\"]\n",
    "        print(claim[\"id\"])\n",
    "        attestResp = requests.request(\"POST\", \"%sInstitute/claims/%s/attest\" %(baseUrl, claim[\"id\"]), headers=headers, json=data)\n",
    "        assert response.status_code == 200\n",
    "        print(attestResp)\n",
    "        print(attestResp.json())\n",
    "        break\n",
    "assert attestingClaimId != None\n"
   ],
   "metadata": {
    "collapsed": false,
    "pycharm": {
     "name": "#%%\n"
    }
   }
  },
  {
   "cell_type": "code",
   "execution_count": null,
   "outputs": [],
   "source": [
    "import time\n",
    "time.sleep(5)\n",
    "# verify attestation status\n",
    "headers = {\n",
    "  'Content-Type': 'application/json',\n",
    "    'Authorization': 'bearer %s'%teacherToken,\n",
    "}\n",
    "\n",
    "response = requests.request(\"GET\", baseUrl + \"Teacher\", headers=headers)\n",
    "\n",
    "# print(response.text)\n",
    "for affiliation in response.json()[0][\"teacherExperience\"]:\n",
    "        if affiliation[\"_osClaimId\"] == attestingClaimId:\n",
    "            assert affiliation[\"_osState\"] == \"PUBLISHED\"\n"
   ],
   "metadata": {
    "collapsed": false,
    "pycharm": {
     "name": "#%%\n"
    }
   }
  },
  {
   "cell_type": "code",
   "execution_count": null,
   "outputs": [],
   "source": [
    "# raise qualification attestation request\n",
    "headers = {\n",
    "    'content-type': 'application/json',\n",
    "    'authorization': 'bearer %s'%teacherToken,\n",
    "}\n",
    "\n",
    "data = {\n",
    "    \"entityName\":\"Teacher\",\n",
    "    \"entityId\":\"%s\"%teacherOsid,\n",
    "    \"name\":\"teacherAcademicsQualification\",\n",
    "    \"propertiesOSID\": {\n",
    "        \"academicQualifications\": [qualificationOsid]\n",
    "    }\n",
    "}\n",
    "response = requests.post(baseUrl+'send', headers=headers, json=data)\n",
    "print(response.status_code)\n",
    "response.json()\n",
    "assert response.status_code == 200\n",
    "print(response.json())\n",
    "assert response.json()[\"params\"][\"status\"] == \"SUCCESSFUL\"\n",
    "\n"
   ],
   "metadata": {
    "collapsed": false,
    "pycharm": {
     "name": "#%%\n"
    }
   }
  },
  {
   "cell_type": "code",
   "execution_count": null,
   "outputs": [],
   "source": [
    "\n",
    "# get institute token\n",
    "institute1Token = getToken(institute1)\n",
    "print(institute1Token)\n",
    "\n",
    "# get institute claims and grant the claim\n",
    "headers = {\n",
    "  'Content-Type': 'application/json',\n",
    "    'Authorization': 'bearer %s'%institute1Token,\n",
    "}\n",
    "\n",
    "response = requests.request(\"GET\", baseUrl + \"Institute/claims\", headers=headers)\n",
    "assert response.status_code == 200\n",
    "print(response)\n",
    "\n",
    "# Attesting the claim as GRANT\n",
    "data = {\n",
    "    \"action\":\"GRANT_CLAIM\",\n",
    "}\n",
    "print(response.json())\n",
    "attestingClaimId = None\n",
    "for claim in response.json():\n",
    "#     print(claim)\n",
    "    print(claim[\"status\"])\n",
    "    if claim[\"status\"] == \"OPEN\":\n",
    "        attestingClaimId = claim[\"id\"]\n",
    "        print(claim[\"id\"])\n",
    "        attestResp = requests.request(\"POST\", \"%sInstitute/claims/%s/attest\" %(baseUrl, claim[\"id\"]), headers=headers, json=data)\n",
    "        assert response.status_code == 200\n",
    "        print(attestResp)\n",
    "        print(attestResp.json())\n",
    "        break\n",
    "assert attestingClaimId != None"
   ],
   "metadata": {
    "collapsed": false,
    "pycharm": {
     "name": "#%%\n"
    }
   }
  },
  {
   "cell_type": "code",
   "execution_count": null,
   "outputs": [],
   "source": [
    "\n",
    "import time\n",
    "time.sleep(3)\n",
    "# verify attestation status\n",
    "headers = {\n",
    "  'Content-Type': 'application/json',\n",
    "    'Authorization': 'bearer %s'%teacherToken,\n",
    "}\n",
    "\n",
    "response = requests.request(\"GET\", baseUrl + \"Teacher\", headers=headers)\n",
    "\n",
    "\n",
    "for affiliation in response.json()[0][\"teacherAcademicsQualification\"]:\n",
    "    print(affiliation)\n",
    "    if affiliation[\"_osClaimId\"] == attestingClaimId:\n",
    "        assert affiliation[\"_osState\"] == \"PUBLISHED\""
   ],
   "metadata": {
    "collapsed": false,
    "pycharm": {
     "name": "#%%\n"
    }
   }
  },
  {
   "cell_type": "markdown",
   "source": [
    "# Student Attestations"
   ],
   "metadata": {
    "collapsed": false,
    "pycharm": {
     "name": "#%% md\n"
    }
   }
  },
  {
   "cell_type": "code",
   "execution_count": null,
   "outputs": [],
   "source": [
    "# create teacher\n",
    "studentUserId = \"s\"+str(random.randint(0,999999))\n",
    "studentRequestBody = {\n",
    "  \"identityDetails\": {\n",
    "    \"fullName\": \"student1\",\n",
    "    \"gender\": \"Male\",\n",
    "    \"dob\": \"1995-10-28\",\n",
    "    \"identityHolder\": {\n",
    "      \"AADHAAR\": \"123412323\"\n",
    "    }\n",
    "  },\n",
    "  \"contactDetails\": {\n",
    "    \"email\": \"%s@g.com\"%studentUserId,\n",
    "    \"mobile\": studentUserId\n",
    "  },\n",
    "  \"educationDetails\": [\n",
    "    {\n",
    "      \"instituteOSID\": institute2Osid,\n",
    "      \"instituteName\": \"XYZ\"\n",
    "    }\n",
    "  ]\n",
    "}\n",
    "headers = {\n",
    "  'Content-Type': 'application/json'\n",
    "}\n",
    "\n",
    "response = requests.request(\"POST\", baseUrl + \"Student/invite\", headers=headers, json=studentRequestBody)\n",
    "\n",
    "print(response.text)\n",
    "assert response.status_code == 200\n",
    "studentOsid = response.json()[\"result\"][\"Student\"][\"osid\"]"
   ],
   "metadata": {
    "collapsed": false,
    "pycharm": {
     "name": "#%%\n"
    }
   }
  },
  {
   "cell_type": "code",
   "execution_count": null,
   "outputs": [],
   "source": [
    "studentToken = getToken(studentUserId)\n",
    "print(studentToken)"
   ],
   "metadata": {
    "collapsed": false,
    "pycharm": {
     "name": "#%%\n"
    }
   }
  },
  {
   "cell_type": "code",
   "execution_count": null,
   "outputs": [],
   "source": [
    "# get student details\n",
    "headers = {\n",
    "  'Content-Type': 'application/json',\n",
    "    'Authorization': 'bearer %s'%studentToken,\n",
    "}\n",
    "\n",
    "response = requests.request(\"GET\", baseUrl + \"Student\", headers=headers)\n",
    "\n",
    "print(response.text)\n",
    "assert response.status_code == 200\n",
    "print(response.json()[0][\"educationDetails\"][0][\"osid\"])\n",
    "educationDetailsOsid = response.json()[0][\"educationDetails\"][0][\"osid\"]"
   ],
   "metadata": {
    "collapsed": false,
    "pycharm": {
     "name": "#%%\n"
    }
   }
  },
  {
   "cell_type": "code",
   "execution_count": null,
   "outputs": [],
   "source": [],
   "metadata": {
    "collapsed": false,
    "pycharm": {
     "name": "#%%\n"
    }
   }
  },
  {
   "cell_type": "code",
   "execution_count": null,
   "outputs": [],
   "source": [
    "# raise qualification attestation request\n",
    "headers = {\n",
    "    'content-type': 'application/json',\n",
    "    'authorization': 'bearer %s'%studentToken,\n",
    "}\n",
    "\n",
    "data = {\n",
    "    \"entityName\":\"Student\",\n",
    "    \"entityId\":\"%s\"%studentOsid,\n",
    "    \"name\":\"studentInstituteAttest\",\n",
    "    \"propertiesOSID\": {\n",
    "        \"educationDetails\": [educationDetailsOsid]\n",
    "    }\n",
    "}\n",
    "response = requests.post(baseUrl+'send', headers=headers, json=data)\n",
    "print(response.status_code)\n",
    "response.json()\n",
    "assert response.status_code == 200\n",
    "print(response.json())\n",
    "assert response.json()[\"params\"][\"status\"] == \"SUCCESSFUL\"\n"
   ],
   "metadata": {
    "collapsed": false,
    "pycharm": {
     "name": "#%%\n"
    }
   }
  },
  {
   "cell_type": "code",
   "execution_count": null,
   "outputs": [],
   "source": [
    "# get teacher token\n",
    "teacherToken = getToken(teacherUserId)\n",
    "print(teacherToken)\n",
    "\n",
    "# get institute claims and grant the claim\n",
    "headers = {\n",
    "  'Content-Type': 'application/json',\n",
    "    'Authorization': 'bearer %s'%teacherToken,\n",
    "}\n",
    "\n",
    "response = requests.request(\"GET\", baseUrl + \"Teacher/claims\", headers=headers)\n",
    "assert response.status_code == 200\n",
    "print(response)\n",
    "\n",
    "# Attesting the claim as GRANT\n",
    "data = {\n",
    "    \"action\":\"GRANT_CLAIM\",\n",
    "}\n",
    "print(response.json())\n",
    "attestingClaimId = None\n",
    "for claim in response.json():\n",
    "#     print(claim)\n",
    "    print(claim[\"status\"])\n",
    "    if claim[\"status\"] == \"OPEN\":\n",
    "        attestingClaimId = claim[\"id\"]\n",
    "        print(claim[\"id\"])\n",
    "        attestResp = requests.request(\"POST\", \"%sTeacher/claims/%s/attest\" %(baseUrl, claim[\"id\"]), headers=headers, json=data)\n",
    "        assert response.status_code == 200\n",
    "        print(attestResp)\n",
    "        print(attestResp.json())\n",
    "        break\n",
    "assert attestingClaimId != None"
   ],
   "metadata": {
    "collapsed": false,
    "pycharm": {
     "name": "#%%\n"
    }
   }
  },
  {
   "cell_type": "code",
   "execution_count": null,
   "outputs": [],
   "source": [
    "\n",
    "import time\n",
    "time.sleep(1)\n",
    "# verify attestation status\n",
    "headers = {\n",
    "  'Content-Type': 'application/json',\n",
    "    'Authorization': 'bearer %s'%studentToken,\n",
    "}\n",
    "\n",
    "response = requests.request(\"GET\", baseUrl + \"Student\", headers=headers)\n",
    "\n",
    "\n",
    "for affiliation in response.json()[0][\"studentInstituteAttest\"]:\n",
    "    print(affiliation)\n",
    "    if affiliation[\"_osClaimId\"] == attestingClaimId:\n",
    "        assert affiliation[\"_osState\"] == \"PUBLISHED\""
   ],
   "metadata": {
    "collapsed": false,
    "pycharm": {
     "name": "#%%\n"
    }
   }
  },
  {
   "cell_type": "markdown",
   "source": [
    "# Update attested details"
   ],
   "metadata": {
    "collapsed": false,
    "pycharm": {
     "name": "#%% md\n"
    }
   }
  },
  {
   "cell_type": "code",
   "execution_count": null,
   "outputs": [],
   "source": [
    "instituteUserId = \"admin39@mailinator.com\"\n",
    "instituteRequestBody = {\n",
    "    \"instituteName\": \"te\",\n",
    "    \"email\": instituteUserId,\n",
    "    \"contactNumber\": \"!23\"\n",
    "}\n",
    "headers = {\n",
    "  'Content-Type': 'application/json'\n",
    "}\n",
    "\n",
    "response = requests.request(\"POST\", baseUrl + \"Institute/invite\", headers=headers, json=instituteRequestBody)\n",
    "\n",
    "print(response.text)\n",
    "assert response.status_code == 200"
   ],
   "metadata": {
    "collapsed": false,
    "pycharm": {
     "name": "#%%\n"
    }
   }
  },
  {
   "cell_type": "code",
   "execution_count": null,
   "outputs": [],
   "source": [
    "token = getToken(instituteUserId)\n",
    "print(token)"
   ],
   "metadata": {
    "collapsed": false,
    "pycharm": {
     "name": "#%%\n"
    }
   }
  },
  {
   "cell_type": "code",
   "execution_count": null,
   "outputs": [],
   "source": [],
   "metadata": {
    "collapsed": false,
    "pycharm": {
     "name": "#%%\n"
    }
   }
  },
  {
   "cell_type": "code",
   "execution_count": 47,
   "id": "f448064a",
   "metadata": {
    "pycharm": {
     "name": "#%%\n"
    }
   },
   "outputs": [
    {
     "name": "stdout",
     "output_type": "stream",
     "text": [
      "{\"id\":\"sunbird-rc.registry.invite\",\"ver\":\"1.0\",\"ets\":1666058229935,\"params\":{\"resmsgid\":\"\",\"msgid\":\"cdac50dd-a469-443b-97c1-8823a7de939b\",\"err\":\"\",\"status\":\"SUCCESSFUL\",\"errmsg\":\"\"},\"responseCode\":\"OK\",\"result\":{\"Institute\":{\"osid\":\"1-10799403-8916-40af-8468-3de640808180\"}}}\n"
     ]
    }
   ],
   "source": [
    "instituteUserId = \"admin39@mailinator.com\"\n",
    "instituteRequestBody = {\n",
    "    \"instituteName\": \"te\",\n",
    "    \"email\": instituteUserId,\n",
    "    \"contactNumber\": \"!23\"\n",
    "}\n",
    "headers = {\n",
    "  'Content-Type': 'application/json'\n",
    "}\n",
    "\n",
    "response = requests.request(\"POST\", baseUrl + \"Institute/invite\", headers=headers, json=instituteRequestBody)\n",
    "\n",
    "print(response.text)\n",
    "assert response.status_code == 200"
   ]
  },
  {
   "cell_type": "code",
   "execution_count": 48,
   "id": "3e1e0d4d",
   "metadata": {
    "pycharm": {
     "name": "#%%\n"
    }
   },
   "outputs": [
    {
     "name": "stdout",
     "output_type": "stream",
     "text": [
      "{'access_token': 'eyJhbGciOiJSUzI1NiIsInR5cCIgOiAiSldUIiwia2lkIiA6ICJYcGhHaEZVTTlWSUNWZGp2RVlkOTJtQXVoLVYwOWl2YU1ZOHE4cFR5OVRVIn0.eyJleHAiOjE2NjYwNTg4MzAsImlhdCI6MTY2NjA1ODIzMCwianRpIjoiYWNiYTdiMjYtNzI4ZC00ZTBiLWIxYjQtMThkZWIyNjk1NDVmIiwiaXNzIjoiaHR0cHM6Ly9kZW1vLWVkdWNhdGlvbi1yZWdpc3RyeS54aXYuaW4vYXV0aC9yZWFsbXMvc3VuYmlyZC1yYyIsImF1ZCI6ImFjY291bnQiLCJzdWIiOiJkNDI0YzY2OC1hOWM3LTQzMmItYTYzNS1kMTFhMjdkNDNmZjciLCJ0eXAiOiJCZWFyZXIiLCJhenAiOiJyZWdpc3RyeS1mcm9udGVuZCIsInNlc3Npb25fc3RhdGUiOiJhZDZkMTkzMi02NDQyLTRmMGQtOTZkYi02ZjE3MmY2YTRkYTIiLCJhY3IiOiIxIiwiYWxsb3dlZC1vcmlnaW5zIjpbImh0dHBzOi8vbG9jYWxob3N0OjQyMDIiLCJodHRwOi8vbG9jYWxob3N0OjQyMDIiLCJodHRwczovL2xvY2FsaG9zdDo0MjAwIiwiaHR0cHM6Ly9kZW1vLWVkdWNhdGlvbi1yZWdpc3RyeS54aXYuaW4iLCJodHRwczovL25kZWFyLnhpdi5pbiIsImh0dHA6Ly9sb2NhbGhvc3Q6NDIwMCIsImh0dHA6Ly9uZGVhci54aXYuaW4iLCJodHRwOi8vMjAuMTk4LjY0LjEyOCJdLCJyZWFsbV9hY2Nlc3MiOnsicm9sZXMiOlsib2ZmbGluZV9hY2Nlc3MiLCJ1bWFfYXV0aG9yaXphdGlvbiIsImRlZmF1bHQtcm9sZXMtbmRlYXIiXX0sInJlc291cmNlX2FjY2VzcyI6eyJhY2NvdW50Ijp7InJvbGVzIjpbIm1hbmFnZS1hY2NvdW50IiwibWFuYWdlLWFjY291bnQtbGlua3MiLCJ2aWV3LXByb2ZpbGUiXX19LCJzY29wZSI6InByb2ZpbGUgZW1haWwiLCJlbWFpbF92ZXJpZmllZCI6ZmFsc2UsInByZWZlcnJlZF91c2VybmFtZSI6ImFkbWluMzlAbWFpbGluYXRvci5jb20iLCJlbnRpdHkiOlsiSW5zdGl0dXRlIl0sImVtYWlsIjoiYWRtaW4zOUBtYWlsaW5hdG9yLmNvbSJ9.QrokvAatRWygiELGilg0B03M1uaBe8D_YWGrZyZBFR1OvnnM569m6YjpnV89DvPaFNm3TGxjiHeC-o5fVXLt5ws7VXd6dBcqpeH_rrg2yU9Uqsa5aJF84z7GpUIBXuDDQjuWmrgUMm6JGHAh1Jmh3bWEh6Gt8wgY5Rl9Wce2J5FnRuWM4Z3mG3n0Bmbbv-ik8eeyW1dMdeO_ux9uL9wBMv0eCC0LsdTysDPo0qhgfEY7hBauW73OFn2rGtQUhQfKA-Vbjltg363sm3o9qdDzkEFP51sxnCJIW4ZO_0z4Y8XNOALL_1D1vVhI2xKTztYdyUNxiePKSduKb-AJxRTJng', 'expires_in': 600, 'refresh_expires_in': 600, 'refresh_token': 'eyJhbGciOiJIUzI1NiIsInR5cCIgOiAiSldUIiwia2lkIiA6ICJhNmVhZGU4MS0zZGZkLTRjNDktYTMyOS1jNjJkNWIzNWE2ZjAifQ.eyJleHAiOjE2NjYwNTg4MzAsImlhdCI6MTY2NjA1ODIzMCwianRpIjoiNzQwOTA1ZDctMGQ0Yy00NDE5LTgzZDgtYjExNjQwMDE4OWRlIiwiaXNzIjoiaHR0cHM6Ly9kZW1vLWVkdWNhdGlvbi1yZWdpc3RyeS54aXYuaW4vYXV0aC9yZWFsbXMvc3VuYmlyZC1yYyIsImF1ZCI6Imh0dHBzOi8vZGVtby1lZHVjYXRpb24tcmVnaXN0cnkueGl2LmluL2F1dGgvcmVhbG1zL3N1bmJpcmQtcmMiLCJzdWIiOiJkNDI0YzY2OC1hOWM3LTQzMmItYTYzNS1kMTFhMjdkNDNmZjciLCJ0eXAiOiJSZWZyZXNoIiwiYXpwIjoicmVnaXN0cnktZnJvbnRlbmQiLCJzZXNzaW9uX3N0YXRlIjoiYWQ2ZDE5MzItNjQ0Mi00ZjBkLTk2ZGItNmYxNzJmNmE0ZGEyIiwic2NvcGUiOiJwcm9maWxlIGVtYWlsIn0.kjppZlGjN49h5wMfNKjgZqwa0xZGPWztSGOCBV4gPuU', 'token_type': 'Bearer', 'not-before-policy': 1607576887, 'session_state': 'ad6d1932-6442-4f0d-96db-6f172f6a4da2', 'scope': 'profile email'}\n",
      "eyJhbGciOiJSUzI1NiIsInR5cCIgOiAiSldUIiwia2lkIiA6ICJYcGhHaEZVTTlWSUNWZGp2RVlkOTJtQXVoLVYwOWl2YU1ZOHE4cFR5OVRVIn0.eyJleHAiOjE2NjYwNTg4MzAsImlhdCI6MTY2NjA1ODIzMCwianRpIjoiYWNiYTdiMjYtNzI4ZC00ZTBiLWIxYjQtMThkZWIyNjk1NDVmIiwiaXNzIjoiaHR0cHM6Ly9kZW1vLWVkdWNhdGlvbi1yZWdpc3RyeS54aXYuaW4vYXV0aC9yZWFsbXMvc3VuYmlyZC1yYyIsImF1ZCI6ImFjY291bnQiLCJzdWIiOiJkNDI0YzY2OC1hOWM3LTQzMmItYTYzNS1kMTFhMjdkNDNmZjciLCJ0eXAiOiJCZWFyZXIiLCJhenAiOiJyZWdpc3RyeS1mcm9udGVuZCIsInNlc3Npb25fc3RhdGUiOiJhZDZkMTkzMi02NDQyLTRmMGQtOTZkYi02ZjE3MmY2YTRkYTIiLCJhY3IiOiIxIiwiYWxsb3dlZC1vcmlnaW5zIjpbImh0dHBzOi8vbG9jYWxob3N0OjQyMDIiLCJodHRwOi8vbG9jYWxob3N0OjQyMDIiLCJodHRwczovL2xvY2FsaG9zdDo0MjAwIiwiaHR0cHM6Ly9kZW1vLWVkdWNhdGlvbi1yZWdpc3RyeS54aXYuaW4iLCJodHRwczovL25kZWFyLnhpdi5pbiIsImh0dHA6Ly9sb2NhbGhvc3Q6NDIwMCIsImh0dHA6Ly9uZGVhci54aXYuaW4iLCJodHRwOi8vMjAuMTk4LjY0LjEyOCJdLCJyZWFsbV9hY2Nlc3MiOnsicm9sZXMiOlsib2ZmbGluZV9hY2Nlc3MiLCJ1bWFfYXV0aG9yaXphdGlvbiIsImRlZmF1bHQtcm9sZXMtbmRlYXIiXX0sInJlc291cmNlX2FjY2VzcyI6eyJhY2NvdW50Ijp7InJvbGVzIjpbIm1hbmFnZS1hY2NvdW50IiwibWFuYWdlLWFjY291bnQtbGlua3MiLCJ2aWV3LXByb2ZpbGUiXX19LCJzY29wZSI6InByb2ZpbGUgZW1haWwiLCJlbWFpbF92ZXJpZmllZCI6ZmFsc2UsInByZWZlcnJlZF91c2VybmFtZSI6ImFkbWluMzlAbWFpbGluYXRvci5jb20iLCJlbnRpdHkiOlsiSW5zdGl0dXRlIl0sImVtYWlsIjoiYWRtaW4zOUBtYWlsaW5hdG9yLmNvbSJ9.QrokvAatRWygiELGilg0B03M1uaBe8D_YWGrZyZBFR1OvnnM569m6YjpnV89DvPaFNm3TGxjiHeC-o5fVXLt5ws7VXd6dBcqpeH_rrg2yU9Uqsa5aJF84z7GpUIBXuDDQjuWmrgUMm6JGHAh1Jmh3bWEh6Gt8wgY5Rl9Wce2J5FnRuWM4Z3mG3n0Bmbbv-ik8eeyW1dMdeO_ux9uL9wBMv0eCC0LsdTysDPo0qhgfEY7hBauW73OFn2rGtQUhQfKA-Vbjltg363sm3o9qdDzkEFP51sxnCJIW4ZO_0z4Y8XNOALL_1D1vVhI2xKTztYdyUNxiePKSduKb-AJxRTJng\n"
     ]
    }
   ],
   "source": [
    "token = getToken(instituteUserId)\n",
    "print(token)"
   ]
  },
  {
   "cell_type": "code",
   "execution_count": null,
   "id": "cd4d2fba-2015-4c18-90fb-273867f3e6ae",
   "metadata": {},
   "outputs": [],
   "source": []
  }
 ],
 "metadata": {
  "kernelspec": {
   "display_name": "Python 3 (ipykernel)",
   "language": "python",
   "name": "python3"
  },
  "language_info": {
   "codemirror_mode": {
    "name": "ipython",
    "version": 3
   },
   "file_extension": ".py",
   "mimetype": "text/x-python",
   "name": "python",
   "nbconvert_exporter": "python",
   "pygments_lexer": "ipython3",
   "version": "3.9.13"
  }
 },
 "nbformat": 4,
 "nbformat_minor": 5
}