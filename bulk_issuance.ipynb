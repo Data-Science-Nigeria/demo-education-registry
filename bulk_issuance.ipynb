{
 "cells": [
  {
   "cell_type": "code",
   "execution_count": 7,
   "id": "47806cec",
   "metadata": {},
   "outputs": [],
   "source": [
    "import requests\n",
    "import random\n",
    "import json\n",
    "import base64\n",
    "from IPython.display import display, SVG"
   ]
  },
  {
   "cell_type": "code",
   "execution_count": 8,
   "id": "7452aa6e",
   "metadata": {},
   "outputs": [],
   "source": [
    "registryUrl = \"http://localhost:8081\"\n",
    "keycloak_url = \"http://localhost:8080\"\n",
    "bulkIssuanceUrl = \"http://localhost:5665\""
   ]
  },
  {
   "cell_type": "code",
   "execution_count": 18,
   "id": "f61841e2",
   "metadata": {},
   "outputs": [
    {
     "name": "stdout",
     "output_type": "stream",
     "text": [
      "200\n",
      "eyJhbGciOiJSUzI1NiIsInR5cCIgOiAiSldUIiwia2lkIiA6ICJZUHc4MWFDNjNRUUpYSnAyWVhkbTh4amxxaDZaZ05BRVp5MXlEdlBTTVQwIn0.eyJleHAiOjE2ODE5NzAxMTcsImlhdCI6MTY4MTk2OTUxNywianRpIjoiMTczZDViNzMtYzg2Mi00YmNhLWEyZTktOTVhY2Y0NGVmOTI2IiwiaXNzIjoiaHR0cDovL2tleWNsb2FrOjgwODAvYXV0aC9yZWFsbXMvc3VuYmlyZC1yYyIsImF1ZCI6ImFjY291bnQiLCJzdWIiOiIyNjVlY2EyNi1kZTA4LTRlODUtYTM2Mi1jMTU4NzRiNDM2NDkiLCJ0eXAiOiJCZWFyZXIiLCJhenAiOiJyZWdpc3RyeS1mcm9udGVuZCIsInNlc3Npb25fc3RhdGUiOiJjZjlmMzdjZi0wYmFlLTQ4ZjQtOTk4ZS0xYjAyMWE4ZTZiYzIiLCJhY3IiOiIxIiwiYWxsb3dlZC1vcmlnaW5zIjpbImh0dHBzOi8vbG9jYWxob3N0OjQyMDIiLCJodHRwOi8vbG9jYWxob3N0OjQyMDIiLCJodHRwczovL2xvY2FsaG9zdDo0MjAwIiwiaHR0cHM6Ly9uZGVhci54aXYuaW4iLCJodHRwOi8vbG9jYWxob3N0OjQyMDAiLCJodHRwOi8vbmRlYXIueGl2LmluIiwiaHR0cDovLzIwLjE5OC42NC4xMjgiXSwicmVhbG1fYWNjZXNzIjp7InJvbGVzIjpbIklzc3VlciIsInNjaG9sYXJzaGlwIiwib2ZmbGluZV9hY2Nlc3MiLCJhZG1pbiIsInVtYV9hdXRob3JpemF0aW9uIiwiZGVmYXVsdC1yb2xlcy1uZGVhciJdfSwicmVzb3VyY2VfYWNjZXNzIjp7ImFjY291bnQiOnsicm9sZXMiOlsibWFuYWdlLWFjY291bnQiLCJtYW5hZ2UtYWNjb3VudC1saW5rcyIsInZpZXctcHJvZmlsZSJdfX0sInNjb3BlIjoicHJvZmlsZSBlbWFpbCIsImVtYWlsX3ZlcmlmaWVkIjpmYWxzZSwicHJlZmVycmVkX3VzZXJuYW1lIjoic2Nob2xhcnNoaXAiLCJlbnRpdHkiOlsiSXNzdWVyIl0sImVtYWlsIjoic2Nob2xhcnNoaXAifQ.fxoFpcXZVnfFUKFepdGXV7atH-vkJ0gosuo2yK4nnsos9cpajvynRVjPyHOlAbn-9UcP_bZqrCEcFLUGd6lKeKLN5PxuCngA_z3ztZ7kguobJ0XaxaNUz-Vq1tTJcrTMFIdRP-3F5fGLWTSxH7RXt6vRGAsMhTElcSR-dwm6ykUd6I81vAe7rKi0OH9RRMEXCxs46JL53Ws3V6dhZ3LRJJ0SAnud8QXlj3wAhMIVuhRqFDHgoX-OkX1mphyeUfP-LZzAGM67eWB0oF9e-Pg5L_VgUr-Snd9usI9X9P2AfwiJaczWH_a72_DKoo891jIXvBrLYtxJEMzhyd_WG7P2_w\n"
     ]
    }
   ],
   "source": [
    "#create issuer token\n",
    "issuerUserId = 'scholarship'\n",
    "headers = {\n",
    "    'content-type': 'application/x-www-form-urlencoded',\n",
    "}\n",
    "data = {\n",
    "  'client_id': 'registry-frontend',\n",
    "  'username': issuerUserId,\n",
    "  'password': 'abcd@123',\n",
    "  'grant_type': 'password'\n",
    "}\n",
    "\n",
    "response = requests.post('%s/auth/realms/sunbird-rc/protocol/openid-connect/token'%(keycloak_url), headers=headers, data=data)\n",
    "issuerToken = response.json()[\"access_token\"]\n",
    "print(response.status_code)\n",
    "print(issuerToken)"
   ]
  },
  {
   "cell_type": "code",
   "execution_count": 22,
   "id": "8a1f0e2b",
   "metadata": {},
   "outputs": [],
   "source": [
    "schemaName = 'PreMatricScholarship'\n",
    "headers = {\n",
    "    'Authorization': 'Bearer %s'%(issuerToken)\n",
    "}"
   ]
  },
  {
   "cell_type": "code",
   "execution_count": 27,
   "id": "e12f4559",
   "metadata": {},
   "outputs": [
    {
     "name": "stdout",
     "output_type": "stream",
     "text": [
      "b'validupto,nameofScheme,name,email,contact,institute,academicYear,gender,rollNo,dateofaward\\n2023-04-20,string,string,string,string,string,string,string,string,2023-04-20\\n'\n"
     ]
    }
   ],
   "source": [
    "# get sample csv file for a schema\n",
    "response = requests.get('%s/v1/bulk/sample/%s'%(bulkIssuanceUrl, schemaName), headers=headers)\n",
    "print(response.content)"
   ]
  },
  {
   "cell_type": "code",
   "execution_count": 19,
   "id": "dc2a5bf9",
   "metadata": {},
   "outputs": [
    {
     "name": "stdout",
     "output_type": "stream",
     "text": [
      "200\n",
      "{'error': 0, 'success': 1, 'totalRows': 1}\n"
     ]
    }
   ],
   "source": [
    "# upload a csv file to create records\n",
    "files=[\n",
    "  ('file',('sample.csv',open('/Users/tejasvarade/Documents/Sahaj/sunbird-rc/demo-education-registry/schema_templates/sample.csv','rb'),'text/csv'))\n",
    "]\n",
    "response = requests.post('%s/v1/uploadFiles/%s'%(bulkIssuanceUrl, schemaName), headers = headers, files=files)\n",
    "print(response.status_code)\n",
    "print(response.json())"
   ]
  },
  {
   "cell_type": "code",
   "execution_count": 21,
   "id": "c20af47d",
   "metadata": {},
   "outputs": [
    {
     "name": "stdout",
     "output_type": "stream",
     "text": [
      "1\n"
     ]
    }
   ],
   "source": [
    "#get all uploaded files\n",
    "response = requests.get('%s/v1/bulk/uploadedFiles'%(bulkIssuanceUrl), headers=headers)\n",
    "uploadedFileId = response.json()[-1]['ID']\n",
    "print(uploadedFileId)"
   ]
  },
  {
   "cell_type": "code",
   "execution_count": 28,
   "id": "0404a52a",
   "metadata": {},
   "outputs": [
    {
     "name": "stdout",
     "output_type": "stream",
     "text": [
      "b'nameofScheme,gender,academicYear,rollNo,validupto,dateofaward,name,email,contact,institute\\nPreMatricScholarship,Male,2023-2024,51,2024-04-20,2023-04-20,Sharad,sharad@gmail.com,7788996655,Institute5\\n'\n"
     ]
    }
   ],
   "source": [
    "# download a report file\n",
    "response = requests.get('%s/v1/download/%s'%(bulkIssuanceUrl, uploadedFileId), headers=headers)\n",
    "print(response.content)"
   ]
  }
 ],
 "metadata": {
  "kernelspec": {
   "display_name": "Python 3 (ipykernel)",
   "language": "python",
   "name": "python3"
  },
  "language_info": {
   "codemirror_mode": {
    "name": "ipython",
    "version": 3
   },
   "file_extension": ".py",
   "mimetype": "text/x-python",
   "name": "python",
   "nbconvert_exporter": "python",
   "pygments_lexer": "ipython3",
   "version": "3.9.16"
  }
 },
 "nbformat": 4,
 "nbformat_minor": 5
}
